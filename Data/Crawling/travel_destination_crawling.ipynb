{
 "cells": [
  {
   "cell_type": "code",
   "execution_count": 1,
   "metadata": {},
   "outputs": [
    {
     "name": "stdout",
     "output_type": "stream",
     "text": [
      "데이터가 travel_destination.csv 파일에 저장되었습니다.\n"
     ]
    }
   ],
   "source": [
    "import requests\n",
    "from bs4 import BeautifulSoup\n",
    "import csv\n",
    "\n",
    "# 웹사이트 URL\n",
    "url = \"https://worldsbestcities.com/rankings/worlds-best-cities/\"\n",
    "\n",
    "# 웹사이트에 GET 요청 보내기\n",
    "response = requests.get(url)\n",
    "response.raise_for_status()  # 요청이 성공했는지 확인\n",
    "\n",
    "# 페이지의 HTML 내용 파싱\n",
    "soup = BeautifulSoup(response.text, 'html.parser')\n",
    "\n",
    "# 도시 순위를 위한 모든 섹션 찾기\n",
    "sections = soup.find_all('section', class_='js-story')\n",
    "\n",
    "# 추출한 데이터를 저장할 리스트\n",
    "data = []\n",
    "\n",
    "# 각 섹션을 순회하며 도시 순위와 이름 추출\n",
    "for section in sections:\n",
    "    h1_tag = section.find('h1')\n",
    "    if h1_tag and h1_tag.find('a'):\n",
    "        text = h1_tag.get_text().strip()\n",
    "        # 텍스트를 순위와 도시 이름으로 분리\n",
    "        rank, city = text.split('. ', 1)\n",
    "        data.append([rank.strip(), city.strip()])\n",
    "\n",
    "# 데이터를 CSV 파일로 저장\n",
    "with open('travel_destination.csv', 'w', newline='', encoding='utf-8') as file:\n",
    "    writer = csv.writer(file)\n",
    "    writer.writerow(['ranking', 'city'])\n",
    "    writer.writerows(data)\n",
    "\n",
    "print(\"데이터가 travel_destination.csv 파일에 저장되었습니다.\")\n"
   ]
  },
  {
   "cell_type": "code",
   "execution_count": null,
   "metadata": {},
   "outputs": [],
   "source": []
  }
 ],
 "metadata": {
  "kernelspec": {
   "display_name": "Python 3",
   "language": "python",
   "name": "python3"
  },
  "language_info": {
   "codemirror_mode": {
    "name": "ipython",
    "version": 3
   },
   "file_extension": ".py",
   "mimetype": "text/x-python",
   "name": "python",
   "nbconvert_exporter": "python",
   "pygments_lexer": "ipython3",
   "version": "3.12.2"
  }
 },
 "nbformat": 4,
 "nbformat_minor": 2
}
