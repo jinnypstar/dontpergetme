{
 "cells": [
  {
   "cell_type": "markdown",
   "metadata": {},
   "source": [
    "### 머신러닝기반데이터분석 2분반 기말고사 5조\n",
    "##### 데이터사이언스학과 김수아, 박서진, 오서연"
   ]
  },
  {
   "cell_type": "markdown",
   "metadata": {},
   "source": [
    "### _Don't PERget Me_: 여행지 분위기 기반 머신러닝 향수 추천 시스템 프로젝트"
   ]
  },
  {
   "cell_type": "markdown",
   "metadata": {},
   "source": [
    "---\n",
    "0. 문제정의하기(Problem Define)\n",
    "1. 라이브러리 불러오기(Libraries Setting)\n",
    "2. 데이터 수집하기(Data Collection)\n",
    "3. 데이터 탐색하기(Data Exploration)\n",
    "4. 전처리하기(Preprocessing)\n",
    "5. 모델링하기(Modeling)\n",
    "    - 5.1 여행지 분위기 키워드 추출 (by. NMF)\n",
    "    - 5.2 키워드와 향수 노트 유사도 측정\n",
    "---"
   ]
  },
  {
   "cell_type": "markdown",
   "metadata": {},
   "source": [
    "#### 0. 문제정의하기(Problem Define)"
   ]
  },
  {
   "cell_type": "markdown",
   "metadata": {},
   "source": [
    "#### 1. 라이브러리 불러오기(Libraries Setting)"
   ]
  },
  {
   "cell_type": "code",
   "execution_count": 1,
   "metadata": {},
   "outputs": [],
   "source": [
    "# 라이브러리 임포트\n",
    "import pandas as pd\n",
    "import nltk\n",
    "from nltk.corpus import stopwords\n",
    "from nltk.stem import PorterStemmer\n",
    "from sklearn.feature_extraction.text import TfidfVectorizer\n",
    "from sklearn.decomposition import NMF\n",
    "from sklearn.metrics.pairwise import cosine_similarity\n",
    "import re\n",
    "import numpy as np"
   ]
  },
  {
   "cell_type": "markdown",
   "metadata": {},
   "source": [
    "#### 2. 데이터 수집하기\n",
    "- 데이터 경로를 통해 csv 파일 데이터 프레임화"
   ]
  },
  {
   "cell_type": "code",
   "execution_count": 14,
   "metadata": {},
   "outputs": [],
   "source": [
    "# 데이터 파일 경로 설정\n",
    "destination_file_path = '../Data/Prompting/dataset/destination_mood.csv'\n",
    "perfume_file_path = '../Data/preprocess-data/final_perfume-info.csv'\n",
    "\n",
    "destinations = pd.read_csv(destination_file_path)\n",
    "perfumes_raw = pd.read_csv(perfume_file_path)"
   ]
  },
  {
   "cell_type": "code",
   "execution_count": 15,
   "metadata": {},
   "outputs": [
    {
     "data": {
      "text/html": [
       "<div>\n",
       "<style scoped>\n",
       "    .dataframe tbody tr th:only-of-type {\n",
       "        vertical-align: middle;\n",
       "    }\n",
       "\n",
       "    .dataframe tbody tr th {\n",
       "        vertical-align: top;\n",
       "    }\n",
       "\n",
       "    .dataframe thead th {\n",
       "        text-align: right;\n",
       "    }\n",
       "</style>\n",
       "<table border=\"1\" class=\"dataframe\">\n",
       "  <thead>\n",
       "    <tr style=\"text-align: right;\">\n",
       "      <th></th>\n",
       "      <th>ranking</th>\n",
       "      <th>city</th>\n",
       "      <th>description</th>\n",
       "      <th>City Mood</th>\n",
       "    </tr>\n",
       "  </thead>\n",
       "  <tbody>\n",
       "    <tr>\n",
       "      <th>0</th>\n",
       "      <td>1</td>\n",
       "      <td>London</td>\n",
       "      <td>1. The iconic Big Ben and Houses of Parliament...</td>\n",
       "      <td>London, the capital of the United Kingdom, is ...</td>\n",
       "    </tr>\n",
       "    <tr>\n",
       "      <th>1</th>\n",
       "      <td>2</td>\n",
       "      <td>Paris</td>\n",
       "      <td>1. Eiffel Tower: The iconic symbol of Paris, t...</td>\n",
       "      <td>Paris, the capital city of France, is a timele...</td>\n",
       "    </tr>\n",
       "  </tbody>\n",
       "</table>\n",
       "</div>"
      ],
      "text/plain": [
       "   ranking    city                                        description  \\\n",
       "0        1  London  1. The iconic Big Ben and Houses of Parliament...   \n",
       "1        2   Paris  1. Eiffel Tower: The iconic symbol of Paris, t...   \n",
       "\n",
       "                                           City Mood  \n",
       "0  London, the capital of the United Kingdom, is ...  \n",
       "1  Paris, the capital city of France, is a timele...  "
      ]
     },
     "execution_count": 15,
     "metadata": {},
     "output_type": "execute_result"
    }
   ],
   "source": [
    "# 여행지 데이터 확인 - GPT 프롬프팅까지 완료한 데이터\n",
    "destinations.head(2)"
   ]
  },
  {
   "cell_type": "code",
   "execution_count": 16,
   "metadata": {},
   "outputs": [
    {
     "data": {
      "text/html": [
       "<div>\n",
       "<style scoped>\n",
       "    .dataframe tbody tr th:only-of-type {\n",
       "        vertical-align: middle;\n",
       "    }\n",
       "\n",
       "    .dataframe tbody tr th {\n",
       "        vertical-align: top;\n",
       "    }\n",
       "\n",
       "    .dataframe thead th {\n",
       "        text-align: right;\n",
       "    }\n",
       "</style>\n",
       "<table border=\"1\" class=\"dataframe\">\n",
       "  <thead>\n",
       "    <tr style=\"text-align: right;\">\n",
       "      <th></th>\n",
       "      <th>name</th>\n",
       "      <th>company</th>\n",
       "      <th>image</th>\n",
       "      <th>for_gender</th>\n",
       "      <th>main accords</th>\n",
       "      <th>top notes</th>\n",
       "      <th>middle notes</th>\n",
       "      <th>base notes</th>\n",
       "      <th>notes</th>\n",
       "    </tr>\n",
       "  </thead>\n",
       "  <tbody>\n",
       "    <tr>\n",
       "      <th>0</th>\n",
       "      <td>Angels' Share By Kilian</td>\n",
       "      <td>By Kilian</td>\n",
       "      <td>https://fimgs.net/mdimg/perfume/375x500.62615.jpg</td>\n",
       "      <td>for women and men</td>\n",
       "      <td>{'woody': 100.0, 'sweet': 92.6987, 'warm spicy...</td>\n",
       "      <td>['Cognac']</td>\n",
       "      <td>['Cinnamon', 'Tonka Bean', 'Oak']</td>\n",
       "      <td>['Praline', 'Vanilla', 'Sandalwood']</td>\n",
       "      <td>woody, sweet, warm spicy, vanilla, cinnamon, a...</td>\n",
       "    </tr>\n",
       "    <tr>\n",
       "      <th>1</th>\n",
       "      <td>My Way  Giorgio Armani</td>\n",
       "      <td>Giorgio Armani</td>\n",
       "      <td>https://fimgs.net/mdimg/perfume/375x500.62036.jpg</td>\n",
       "      <td>for women</td>\n",
       "      <td>{'white floral': 100.0, 'citrus': 60.4322, 'tu...</td>\n",
       "      <td>['Orange Blossom', 'Bergamot']</td>\n",
       "      <td>['Tuberose', 'Indian Jasmine']</td>\n",
       "      <td>['White Musk', 'Madagascar Vanilla', 'Virginia...</td>\n",
       "      <td>white floral, citrus, tuberose, animalic, Oran...</td>\n",
       "    </tr>\n",
       "  </tbody>\n",
       "</table>\n",
       "</div>"
      ],
      "text/plain": [
       "                      name         company  \\\n",
       "0  Angels' Share By Kilian       By Kilian   \n",
       "1   My Way  Giorgio Armani  Giorgio Armani   \n",
       "\n",
       "                                               image         for_gender  \\\n",
       "0  https://fimgs.net/mdimg/perfume/375x500.62615.jpg  for women and men   \n",
       "1  https://fimgs.net/mdimg/perfume/375x500.62036.jpg          for women   \n",
       "\n",
       "                                        main accords  \\\n",
       "0  {'woody': 100.0, 'sweet': 92.6987, 'warm spicy...   \n",
       "1  {'white floral': 100.0, 'citrus': 60.4322, 'tu...   \n",
       "\n",
       "                        top notes                       middle notes  \\\n",
       "0                      ['Cognac']  ['Cinnamon', 'Tonka Bean', 'Oak']   \n",
       "1  ['Orange Blossom', 'Bergamot']     ['Tuberose', 'Indian Jasmine']   \n",
       "\n",
       "                                          base notes  \\\n",
       "0               ['Praline', 'Vanilla', 'Sandalwood']   \n",
       "1  ['White Musk', 'Madagascar Vanilla', 'Virginia...   \n",
       "\n",
       "                                               notes  \n",
       "0  woody, sweet, warm spicy, vanilla, cinnamon, a...  \n",
       "1  white floral, citrus, tuberose, animalic, Oran...  "
      ]
     },
     "execution_count": 16,
     "metadata": {},
     "output_type": "execute_result"
    }
   ],
   "source": [
    "perfumes_raw.head(2)"
   ]
  },
  {
   "cell_type": "markdown",
   "metadata": {},
   "source": [
    "#### 4. 전처리 하기\n",
    "##### 4.1 향수 데이터 전처리 하기\n",
    "- 'name' 열을 기준으로 중복 행 제거\n",
    "- Main Accords, top/middle/base notes들 텍스트 한 군데('notes' 열 새로 생성)로 합하기\n",
    "    - 향수 전처리 데이터를 'notes' 열 하나로 보기 위하여"
   ]
  },
  {
   "cell_type": "code",
   "execution_count": 17,
   "metadata": {},
   "outputs": [
    {
     "name": "stdout",
     "output_type": "stream",
     "text": [
      "<class 'pandas.core.frame.DataFrame'>\n",
      "RangeIndex: 1074 entries, 0 to 1073\n",
      "Data columns (total 9 columns):\n",
      " #   Column        Non-Null Count  Dtype \n",
      "---  ------        --------------  ----- \n",
      " 0   name          1074 non-null   object\n",
      " 1   company       1074 non-null   object\n",
      " 2   image         1074 non-null   object\n",
      " 3   for_gender    1074 non-null   object\n",
      " 4   main accords  1045 non-null   object\n",
      " 5   top notes     807 non-null    object\n",
      " 6   middle notes  878 non-null    object\n",
      " 7   base notes    807 non-null    object\n",
      " 8   notes         900 non-null    object\n",
      "dtypes: object(9)\n",
      "memory usage: 75.6+ KB\n"
     ]
    }
   ],
   "source": [
    "perfumes_raw.info()    #크롤링 할 때 애초에 main accords, top/middle/base notes가 없는 데이터도 있어서 non-null이 존재"
   ]
  },
  {
   "cell_type": "code",
   "execution_count": 18,
   "metadata": {},
   "outputs": [
    {
     "name": "stdout",
     "output_type": "stream",
     "text": [
      "<class 'pandas.core.frame.DataFrame'>\n",
      "RangeIndex: 100 entries, 0 to 99\n",
      "Data columns (total 4 columns):\n",
      " #   Column       Non-Null Count  Dtype \n",
      "---  ------       --------------  ----- \n",
      " 0   ranking      100 non-null    int64 \n",
      " 1   city         100 non-null    object\n",
      " 2   description  100 non-null    object\n",
      " 3   City Mood    100 non-null    object\n",
      "dtypes: int64(1), object(3)\n",
      "memory usage: 3.3+ KB\n"
     ]
    }
   ],
   "source": [
    "destinations.info()"
   ]
  },
  {
   "cell_type": "markdown",
   "metadata": {},
   "source": [
    "### 데이터 전처리\n",
    "- 텍스트 데이터 전처리 함수화\n",
    "- 함수로 지정해둔 것을 불러올 예정"
   ]
  },
  {
   "cell_type": "code",
   "execution_count": 11,
   "metadata": {},
   "outputs": [
    {
     "name": "stderr",
     "output_type": "stream",
     "text": [
      "[nltk_data] Downloading package stopwords to\n",
      "[nltk_data]     C:\\Users\\sohtk\\AppData\\Roaming\\nltk_data...\n",
      "[nltk_data]   Unzipping corpora\\stopwords.zip.\n"
     ]
    },
    {
     "data": {
      "text/plain": [
       "True"
      ]
     },
     "execution_count": 11,
     "metadata": {},
     "output_type": "execute_result"
    }
   ],
   "source": [
    "# NLTK 데이터 다운로드 (최초 실행 시 한 번만 필요)\n",
    "# nltk.download('stopwords')"
   ]
  },
  {
   "cell_type": "markdown",
   "metadata": {},
   "source": [
    "* 텍스트 전처리\n",
    "    - 소문자 변환\n",
    "    - 불용어 제거\n",
    "    - 어간 추출"
   ]
  },
  {
   "cell_type": "code",
   "execution_count": 19,
   "metadata": {},
   "outputs": [],
   "source": [
    "# 불용어 목록 가져오기\n",
    "stop_words = set(stopwords.words('english'))\n",
    "# 어간 추출기 설정\n",
    "stemmer = PorterStemmer()\n",
    "\n",
    "# 텍스트 전처리 함수 정의\n",
    "def preprocess_text(text):\n",
    "    # 소문자 변환\n",
    "    text = text.lower()\n",
    "    \n",
    "    # 불용어 제거 및 어간 추출\n",
    "    words = text.split()\n",
    "    words = [stemmer.stem(word) for word in words if word not in stop_words]\n",
    "    \n",
    "    # 전처리된 단어들을 다시 하나의 문자열로 결합\n",
    "    return ' '.join(words)"
   ]
  },
  {
   "cell_type": "code",
   "execution_count": 20,
   "metadata": {},
   "outputs": [],
   "source": [
    "# 텍스트 전처리 전, notes 열에서 결측치가 있는 행은 제거하고 진행\n",
    "# 결측치가 존재하는 경우, np.nan으로 결측치가 처리되어 float 타입으로 인식되어 전처리가 불가능함\n",
    "perfumes = perfumes_raw.dropna(subset=['notes'])"
   ]
  },
  {
   "cell_type": "code",
   "execution_count": 21,
   "metadata": {},
   "outputs": [
    {
     "name": "stderr",
     "output_type": "stream",
     "text": [
      "C:\\Users\\sohtk\\AppData\\Local\\Temp\\ipykernel_30532\\1999258345.py:5: SettingWithCopyWarning: \n",
      "A value is trying to be set on a copy of a slice from a DataFrame.\n",
      "Try using .loc[row_indexer,col_indexer] = value instead\n",
      "\n",
      "See the caveats in the documentation: https://pandas.pydata.org/pandas-docs/stable/user_guide/indexing.html#returning-a-view-versus-a-copy\n",
      "  perfumes[text_perfume] = perfumes[text_perfume].apply(preprocess_text)\n"
     ]
    }
   ],
   "source": [
    "# 데이터 프레임의 텍스트 열 전처리\n",
    "\n",
    "# 향수 텍스트 열 전처리\n",
    "text_perfume = 'notes'   # 텍스트 데이터가 있는 열의 이름 미리 지정\n",
    "perfumes[text_perfume] = perfumes[text_perfume].apply(preprocess_text)\n",
    "\n",
    "# 여행지 텍스트 열 전처리\n",
    "text_city = 'City Mood'  # 텍스트 데이터가 있는 열의 이름 미리 지정\n",
    "destinations[text_city] = destinations[text_city].apply(preprocess_text)"
   ]
  },
  {
   "cell_type": "markdown",
   "metadata": {},
   "source": [
    "- 텍스트 전처리 (TF-IDF)"
   ]
  },
  {
   "cell_type": "code",
   "execution_count": 22,
   "metadata": {},
   "outputs": [],
   "source": [
    "# # TF-IDF 벡터화\n",
    "# vectorizer = TfidfVectorizer()\n",
    "# tfidf_perfume = vectorizer.fit_transform(perfumes[text_perfume])\n",
    "\n",
    "# vectorizer = TfidfVectorizer()\n",
    "# tfidf_city = vectorizer.fit_transform(destinations[text_city])"
   ]
  },
  {
   "cell_type": "code",
   "execution_count": 33,
   "metadata": {},
   "outputs": [],
   "source": [
    "# 모든 텍스트 데이터에 대해 fit_transform 수행\n",
    "vectorizer = TfidfVectorizer()\n",
    "all_texts = perfumes['notes'].tolist() + destinations['City Mood'].tolist()\n",
    "tfidf_matrix = vectorizer.fit_transform(all_texts)\n",
    "\n",
    "# perfumes와 destinations의 TF-IDF 행렬 분리\n",
    "tfidf_perfume = tfidf_matrix[:len(perfumes)]\n",
    "tfidf_city = tfidf_matrix[len(perfumes):]"
   ]
  },
  {
   "cell_type": "markdown",
   "metadata": {},
   "source": [
    "#### 5. 모덷링하기\n",
    "- NMF (Non-negative Matrix Factorization)\n",
    "- Cosine Similarity\n",
    "- 함수화 해서 불러와줄 예정"
   ]
  },
  {
   "cell_type": "markdown",
   "metadata": {},
   "source": [
    "##### 5.1 여행지 분위기 키워드 추출 (by. NMF)\n",
    "##### 여행지 분위기 추출 라벨\n",
    "- 팀원 셋이 임의적으로 분위기를 선정하여 추출함\n",
    "    - **자연 경관**을 표현하는 형용사 : picturesque(그림 같은), peaceful(평화로운), grand(웅장한), tranquil(고요한), lush(푸르른), exquisite(황홀한)\n",
    "    - **도시와 문화**를 표현하는 형용사 : vibrant(활기찬), bustling(번화한), traditional(전통적인), cultural(문화적인), unique(독특한), trendy(유행하는)\n",
    "    - **휴양지**를 표현하는 형용사 : relaxing(편안한), romantic(낭만적인), luxurious(화려한), exotic(이국적인)\n",
    "    - **모험과 액티비티**를 표현하는 형용사 : adventurous(모험적인), active(활발한)"
   ]
  },
  {
   "cell_type": "markdown",
   "metadata": {},
   "source": [
    "### Non-negative Matrix Factorization (비음수 행렬 분해, NMF)\n",
    "- Non-negative Matrix Factorization은 Matrix Factorization의 한 종류로, 분해된 행렬 \\( P \\)와 \\( Q \\)의 모든 요소가 비음수(0 또는 양수)라는 제약 조건이 있는 방법임\n",
    "- 데이터가 자연수나 비음수로 구성되어 있을 때 유용함"
   ]
  },
  {
   "cell_type": "markdown",
   "metadata": {},
   "source": [
    "- NMF는 다음과 같이 표현됨:\n",
    "\n",
    "$$ V \\approx W \\cdot H $$\n",
    "\n",
    "여기서 $V$는 원래의 행렬, $W$와 $H$는 비음수 행렬을 의미함 \n",
    "- 이 제약 조건은 결과 행렬들이 해석 가능하고 의미 있는 잠재 요인을 가지도록 도와줌\n",
    "- NMF는 텍스트 마이닝, 이미지 처리, 생물정보학 등의 다양한 분야에서 사용되고 있음"
   ]
  },
  {
   "cell_type": "markdown",
   "metadata": {},
   "source": [
    "### Matrix Factorization과 NMF의 주요 차이점\n",
    "   - Matrix Factorization은 행렬 요소에 비음수 제약이 없으며, 요소가 음수일 수 있음\n",
    "   - Non-negative Matrix Factorization은 행렬 요소가 비음수여야 함\n",
    "      - 우리 프로젝트의 경우, 여행지의 분위기를 담은 텍스트를 만들었기 때문에 특히나 요소가 비음수임\n",
    "      - NMF는 비음수 제약으로 인해 결과가 더 해석 가능하고 의미 있는 패턴을 도출하는 데 유리하기 때문에 NMF를 선정"
   ]
  },
  {
   "cell_type": "code",
   "execution_count": 34,
   "metadata": {},
   "outputs": [],
   "source": [
    "# 여행지 분위기 추출 함수 (여러 주제, NMF 활용)\n",
    "def extract_destination_moods(tfidf_matrix, destinations, n_topics=18):\n",
    "    # NMF를 사용하여 주제 모델링\n",
    "    nmf_model = NMF(n_components=n_topics, random_state=1)\n",
    "    W = nmf_model.fit_transform(tfidf_matrix)\n",
    "    \n",
    "    # 각 주제를 미리 정의된 레이블로 매핑\n",
    "    mood_labels = ['picturesque', 'peaceful', 'grand', 'tranquil', 'lush', 'exquisite', \n",
    "                    'vibrant', 'bustling', 'traditional', 'cultural', 'unique', 'trendy', 'relaxing', \n",
    "                    'romantic', 'luxurious', 'exotic', 'adventurous', 'active']\n",
    "    topic_to_mood = {i: mood_labels[i] for i in range(n_topics)}\n",
    "    \n",
    "    # 각 여행지에 대해 상위 3개의 주제를 추출하여 분위기 매핑\n",
    "    top_topics = np.argsort(W, axis=1)[:, -3:]\n",
    "    top_moods = [[topic_to_mood[topic] for topic in topics] for topics in top_topics]\n",
    "    \n",
    "    destinations['keyword'] = top_moods\n",
    "    \n",
    "    return destinations"
   ]
  },
  {
   "cell_type": "markdown",
   "metadata": {},
   "source": [
    "##### 5.2 키워드와 향수 노트 유사도 측정"
   ]
  },
  {
   "cell_type": "code",
   "execution_count": 35,
   "metadata": {},
   "outputs": [],
   "source": [
    "# 추천 시스템 \n",
    "def recommend_perfumes_for_destinations(destinations, tfidf_city, tfidf_perfume, perfumes, top_n=5):\n",
    "    recommendations = []\n",
    "    for i, destination in destinations.iterrows():\n",
    "        destination_vector = tfidf_city[i].reshape(1, -1)\n",
    "        cosine_sim = cosine_similarity(destination_vector, tfidf_perfume).flatten()\n",
    "        top_perfume_indices = cosine_sim.argsort()[-top_n:][::-1]  # 상위 n개 향수 추천\n",
    "        recommended_perfumes = [perfumes.iloc[idx]['name'] for idx in top_perfume_indices]\n",
    "        recommendations.append(recommended_perfumes)\n",
    "    \n",
    "    destinations['recommendation'] = recommendations\n",
    "    return destinations"
   ]
  },
  {
   "cell_type": "code",
   "execution_count": 36,
   "metadata": {},
   "outputs": [
    {
     "name": "stderr",
     "output_type": "stream",
     "text": [
      "c:\\Users\\sohtk\\anaconda3\\Lib\\site-packages\\sklearn\\decomposition\\_nmf.py:1710: ConvergenceWarning: Maximum number of iterations 200 reached. Increase it to improve convergence.\n",
      "  warnings.warn(\n"
     ]
    },
    {
     "data": {
      "text/html": [
       "<div>\n",
       "<style scoped>\n",
       "    .dataframe tbody tr th:only-of-type {\n",
       "        vertical-align: middle;\n",
       "    }\n",
       "\n",
       "    .dataframe tbody tr th {\n",
       "        vertical-align: top;\n",
       "    }\n",
       "\n",
       "    .dataframe thead th {\n",
       "        text-align: right;\n",
       "    }\n",
       "</style>\n",
       "<table border=\"1\" class=\"dataframe\">\n",
       "  <thead>\n",
       "    <tr style=\"text-align: right;\">\n",
       "      <th></th>\n",
       "      <th>city</th>\n",
       "      <th>keyword</th>\n",
       "    </tr>\n",
       "  </thead>\n",
       "  <tbody>\n",
       "    <tr>\n",
       "      <th>0</th>\n",
       "      <td>London</td>\n",
       "      <td>[traditional, cultural, exotic]</td>\n",
       "    </tr>\n",
       "    <tr>\n",
       "      <th>1</th>\n",
       "      <td>Paris</td>\n",
       "      <td>[lush, luxurious, exquisite]</td>\n",
       "    </tr>\n",
       "    <tr>\n",
       "      <th>2</th>\n",
       "      <td>New York</td>\n",
       "      <td>[luxurious, relaxing, exotic]</td>\n",
       "    </tr>\n",
       "  </tbody>\n",
       "</table>\n",
       "</div>"
      ],
      "text/plain": [
       "       city                          keyword\n",
       "0    London  [traditional, cultural, exotic]\n",
       "1     Paris     [lush, luxurious, exquisite]\n",
       "2  New York    [luxurious, relaxing, exotic]"
      ]
     },
     "execution_count": 36,
     "metadata": {},
     "output_type": "execute_result"
    }
   ],
   "source": [
    "# 여행지 분위기 추출\n",
    "destinations = extract_destination_moods(tfidf_city, destinations, n_topics=18)\n",
    "keyword_check = destinations.loc[:, ['city', 'keyword']]\n",
    "# keyword_check.to_csv('check_keyword.csv', index=False)\n",
    "keyword_check.head(3)"
   ]
  },
  {
   "cell_type": "code",
   "execution_count": 37,
   "metadata": {},
   "outputs": [
    {
     "data": {
      "text/html": [
       "<div>\n",
       "<style scoped>\n",
       "    .dataframe tbody tr th:only-of-type {\n",
       "        vertical-align: middle;\n",
       "    }\n",
       "\n",
       "    .dataframe tbody tr th {\n",
       "        vertical-align: top;\n",
       "    }\n",
       "\n",
       "    .dataframe thead th {\n",
       "        text-align: right;\n",
       "    }\n",
       "</style>\n",
       "<table border=\"1\" class=\"dataframe\">\n",
       "  <thead>\n",
       "    <tr style=\"text-align: right;\">\n",
       "      <th></th>\n",
       "      <th>city</th>\n",
       "      <th>keyword</th>\n",
       "      <th>recommendation</th>\n",
       "    </tr>\n",
       "  </thead>\n",
       "  <tbody>\n",
       "    <tr>\n",
       "      <th>0</th>\n",
       "      <td>London</td>\n",
       "      <td>[traditional, cultural, exotic]</td>\n",
       "      <td>[Pour Femme Dylan Blue Versace Versace, Le Par...</td>\n",
       "    </tr>\n",
       "    <tr>\n",
       "      <th>1</th>\n",
       "      <td>Paris</td>\n",
       "      <td>[lush, luxurious, exquisite]</td>\n",
       "      <td>[M. Balode Florascent, Tobacco Pod For the Sce...</td>\n",
       "    </tr>\n",
       "    <tr>\n",
       "      <th>2</th>\n",
       "      <td>New York</td>\n",
       "      <td>[luxurious, relaxing, exotic]</td>\n",
       "      <td>[OR/18 A. N. OTHER, Garden Roses Burberry, DKN...</td>\n",
       "    </tr>\n",
       "  </tbody>\n",
       "</table>\n",
       "</div>"
      ],
      "text/plain": [
       "       city                          keyword  \\\n",
       "0    London  [traditional, cultural, exotic]   \n",
       "1     Paris     [lush, luxurious, exquisite]   \n",
       "2  New York    [luxurious, relaxing, exotic]   \n",
       "\n",
       "                                      recommendation  \n",
       "0  [Pour Femme Dylan Blue Versace Versace, Le Par...  \n",
       "1  [M. Balode Florascent, Tobacco Pod For the Sce...  \n",
       "2  [OR/18 A. N. OTHER, Garden Roses Burberry, DKN...  "
      ]
     },
     "execution_count": 37,
     "metadata": {},
     "output_type": "execute_result"
    }
   ],
   "source": [
    "recommendations = recommend_perfumes_for_destinations(destinations, tfidf_city, tfidf_perfume, perfumes, top_n=5)\n",
    "recommend_check = recommendations.loc[:, ['city', 'keyword', 'recommendation']]\n",
    "# recommend_check.to_csv('recommend_check.csv', index=False)\n",
    "recommend_check.head(3)"
   ]
  }
 ],
 "metadata": {
  "kernelspec": {
   "display_name": "base",
   "language": "python",
   "name": "python3"
  },
  "language_info": {
   "codemirror_mode": {
    "name": "ipython",
    "version": 3
   },
   "file_extension": ".py",
   "mimetype": "text/x-python",
   "name": "python",
   "nbconvert_exporter": "python",
   "pygments_lexer": "ipython3",
   "version": "3.11.5"
  }
 },
 "nbformat": 4,
 "nbformat_minor": 2
}
