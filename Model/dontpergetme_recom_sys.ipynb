{
 "cells": [
  {
   "cell_type": "code",
   "execution_count": 1,
   "metadata": {},
   "outputs": [],
   "source": [
    "from cos_nmf import *"
   ]
  },
  {
   "cell_type": "code",
   "execution_count": 3,
   "metadata": {},
   "outputs": [
    {
     "name": "stdout",
     "output_type": "stream",
     "text": [
      "Recommended Perfumes for Tokyo:\n",
      "['Insolence Eau de Parfum Guerlain Guerlain', 'Fate for Women Amouage Amouage', 'Fancy Jessica Simpson Jessica Simpson', 'Wanted by Night Azzaro Azzaro', \"Reb'l Fleur Rihanna Rihanna\", 'CH Men Prive Carolina Herrera Carolina Herrera', 'Burberry Her Intense Burberry Burberry', 'Fantasy Britney Spears Britney Spears', 'Lalique White Lalique Lalique', 'Laudano Nero Tiziana Terenzi Tiziana Terenzi']\n"
     ]
    },
    {
     "name": "stderr",
     "output_type": "stream",
     "text": [
      "c:\\Users\\sohtk\\anaconda3\\Lib\\site-packages\\sklearn\\decomposition\\_nmf.py:1710: ConvergenceWarning: Maximum number of iterations 200 reached. Increase it to improve convergence.\n",
      "  warnings.warn(\n"
     ]
    }
   ],
   "source": [
    "# 데이터 파일 경로 설정\n",
    "destination_file_path = '../Data/Prompting/dataset/destination_mood.csv'\n",
    "perfume_file_path = '../Data/preprocess-data/final_perfume-info.csv'\n",
    "\n",
    "destinations = pd.read_csv(destination_file_path)\n",
    "perfumes = load_perfume_data(perfume_file_path)\n",
    "    \n",
    "# 여행지 분위기 추출\n",
    "tfidf_vectorizer, destination_tfidf_matrix, destinations = extract_destination_moods(destinations, n_topics=18)\n",
    "    \n",
    "# 향수와 여행지 매핑\n",
    "perfume_tfidf_matrix = map_perfumes_to_destinations(perfumes, tfidf_vectorizer)\n",
    "    \n",
    "target_destination_index = 3  # 예시로 첫 번째 여행지를 선택\n",
    "recommended_perfumes = recommend_perfumes_for_destination(target_destination_index, destinations, destination_tfidf_matrix, perfume_tfidf_matrix, perfumes, top_n=10)\n",
    "    \n",
    "print(f\"Recommended Perfumes for {destinations.loc[target_destination_index, 'city']}:\")\n",
    "print(recommended_perfumes)"
   ]
  },
  {
   "cell_type": "code",
   "execution_count": 3,
   "metadata": {},
   "outputs": [
    {
     "name": "stdout",
     "output_type": "stream",
     "text": [
      "10\n"
     ]
    }
   ],
   "source": [
    "print(len(recommended_perfumes))"
   ]
  }
 ],
 "metadata": {
  "kernelspec": {
   "display_name": "base",
   "language": "python",
   "name": "python3"
  },
  "language_info": {
   "codemirror_mode": {
    "name": "ipython",
    "version": 3
   },
   "file_extension": ".py",
   "mimetype": "text/x-python",
   "name": "python",
   "nbconvert_exporter": "python",
   "pygments_lexer": "ipython3",
   "version": "3.11.5"
  }
 },
 "nbformat": 4,
 "nbformat_minor": 2
}
